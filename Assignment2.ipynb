{
  "nbformat": 4,
  "nbformat_minor": 0,
  "metadata": {
    "colab": {
      "provenance": []
    },
    "kernelspec": {
      "name": "python3",
      "display_name": "Python 3"
    },
    "language_info": {
      "name": "python"
    }
  },
  "cells": [
    {
      "cell_type": "code",
      "source": [
        "import numpy as np"
      ],
      "metadata": {
        "id": "4W6EFu35k8uQ"
      },
      "execution_count": null,
      "outputs": []
    },
    {
      "cell_type": "code",
      "source": [],
      "metadata": {
        "id": "qWDe_QIBuG-Z"
      },
      "execution_count": null,
      "outputs": []
    },
    {
      "cell_type": "code",
      "source": [
        "#qsn1"
      ],
      "metadata": {
        "id": "EDI7cnZnWdkx"
      },
      "execution_count": null,
      "outputs": []
    },
    {
      "cell_type": "code",
      "execution_count": null,
      "metadata": {
        "colab": {
          "base_uri": "https://localhost:8080/"
        },
        "id": "lUrZGHVTVDRL",
        "outputId": "2d59343a-f0f6-4f07-946a-f09b8b0d609a"
      },
      "outputs": [
        {
          "output_type": "stream",
          "name": "stdout",
          "text": [
            "enter a string value: assambly\n",
            "a=2,s=2,m=1,b=1,l=1,y=1,"
          ]
        }
      ],
      "source": [
        "def count_chars():\n",
        "  user_input = input(\"enter a string value: \")\n",
        "  char_count = {}\n",
        "  for char in user_input:\n",
        "    if char in char_count:\n",
        "      char_count[char] += 1\n",
        "    else:\n",
        "      char_count[char] = 1\n",
        "  for char, count in char_count.items():\n",
        "    print(f\"{char}={count}\",end=\",\")\n",
        "count_chars()"
      ]
    },
    {
      "cell_type": "code",
      "source": [
        "#qsn2"
      ],
      "metadata": {
        "id": "sQKYEbx8MC2w"
      },
      "execution_count": null,
      "outputs": []
    },
    {
      "cell_type": "code",
      "source": [
        "data=np.array([34,12,7])\n",
        "data"
      ],
      "metadata": {
        "colab": {
          "base_uri": "https://localhost:8080/"
        },
        "id": "XhVKGzfD5KJ3",
        "outputId": "bab7e14c-e264-4aa0-b530-6bbb131ec26d"
      },
      "execution_count": null,
      "outputs": [
        {
          "output_type": "execute_result",
          "data": {
            "text/plain": [
              "array([34, 12,  7])"
            ]
          },
          "metadata": {},
          "execution_count": 5
        }
      ]
    },
    {
      "cell_type": "code",
      "source": [
        "data.max()"
      ],
      "metadata": {
        "colab": {
          "base_uri": "https://localhost:8080/"
        },
        "id": "3i6yEMLKknHi",
        "outputId": "fb3a669b-9c09-4e87-e6b7-b5f700608dd7"
      },
      "execution_count": null,
      "outputs": [
        {
          "output_type": "execute_result",
          "data": {
            "text/plain": [
              "34"
            ]
          },
          "metadata": {},
          "execution_count": 6
        }
      ]
    },
    {
      "cell_type": "code",
      "source": [
        "#qsn3"
      ],
      "metadata": {
        "id": "wMg5JHXVkqaZ"
      },
      "execution_count": null,
      "outputs": []
    },
    {
      "cell_type": "code",
      "source": [
        "base=int(input(\"enter the base:\"))\n",
        "exp=int(input(\"enter the exponent:\"))\n",
        "result=(base**exp)\n",
        "print(result)"
      ],
      "metadata": {
        "colab": {
          "base_uri": "https://localhost:8080/"
        },
        "id": "XgEiWa1Wl8LW",
        "outputId": "cdb814c3-d68f-44b2-ac58-541eb417e02f"
      },
      "execution_count": null,
      "outputs": [
        {
          "output_type": "stream",
          "name": "stdout",
          "text": [
            "enter the base:2\n",
            "enter the exponent:3\n",
            "8\n"
          ]
        }
      ]
    },
    {
      "cell_type": "code",
      "source": [
        "#qsn4"
      ],
      "metadata": {
        "id": "qr7ED7uquJY_"
      },
      "execution_count": null,
      "outputs": []
    },
    {
      "cell_type": "code",
      "source": [
        "def sum_of_cubes(n):\n",
        "  return sum(i**3 for i in range(1,n))\n",
        "result=sum_of_cubes(4)\n",
        "print(result)"
      ],
      "metadata": {
        "id": "5NsFr5lwpMi9",
        "colab": {
          "base_uri": "https://localhost:8080/"
        },
        "outputId": "3ced53a8-cdd3-43aa-e215-f959dfdcc3be"
      },
      "execution_count": null,
      "outputs": [
        {
          "output_type": "stream",
          "name": "stdout",
          "text": [
            "36\n"
          ]
        }
      ]
    },
    {
      "cell_type": "code",
      "source": [
        "#Qsn5"
      ],
      "metadata": {
        "id": "Rff7APVouRJ5"
      },
      "execution_count": null,
      "outputs": []
    },
    {
      "cell_type": "code",
      "source": [
        "\n",
        "for i in range(1,11):\n",
        "  if i % 2 == 0 and i % 5 == 0:\n",
        "     print(\"FizzBuzz\")\n",
        "  elif i % 2 == 0:\n",
        "     print(\"Fizz\")\n",
        "  elif i % 5 == 0:\n",
        "     print(\"Buzz\")\n",
        "  else:\n",
        "     print(i)"
      ],
      "metadata": {
        "colab": {
          "base_uri": "https://localhost:8080/"
        },
        "id": "fz8gBQNKuNnz",
        "outputId": "72b2d29a-93d5-44f5-82e6-4393a3545263"
      },
      "execution_count": null,
      "outputs": [
        {
          "output_type": "stream",
          "name": "stdout",
          "text": [
            "1\n",
            "Fizz\n",
            "3\n",
            "Fizz\n",
            "Buzz\n",
            "Fizz\n",
            "7\n",
            "Fizz\n",
            "9\n",
            "FizzBuzz\n"
          ]
        }
      ]
    },
    {
      "cell_type": "code",
      "source": [
        "#qsn6"
      ],
      "metadata": {
        "id": "g0EtVj5quWk9"
      },
      "execution_count": null,
      "outputs": []
    },
    {
      "cell_type": "code",
      "source": [
        "def most_frequent(numbers):\n",
        "    return max(set(numbers),key=numbers.count)\n",
        "\n",
        "numbers = [2, 3, 4, 2, 5, 2]\n",
        "print(most_frequent(numbers))"
      ],
      "metadata": {
        "colab": {
          "base_uri": "https://localhost:8080/"
        },
        "id": "OLCBfPpQu5ke",
        "outputId": "eebf6449-bc70-42bb-d1be-71ec10373a5d"
      },
      "execution_count": null,
      "outputs": [
        {
          "output_type": "stream",
          "name": "stdout",
          "text": [
            "2\n"
          ]
        }
      ]
    },
    {
      "cell_type": "code",
      "source": [
        "#qsn7"
      ],
      "metadata": {
        "id": "0UOQ5fMrvqM-"
      },
      "execution_count": null,
      "outputs": []
    },
    {
      "cell_type": "code",
      "source": [
        "def sum_of_squares(numbers):\n",
        "    return sum(x**2 for x in numbers)\n",
        "\n",
        "numbers = [2, 1, 3, 1]\n",
        "print(sum_of_squares(numbers))"
      ],
      "metadata": {
        "colab": {
          "base_uri": "https://localhost:8080/"
        },
        "id": "0mW27iO8vsnk",
        "outputId": "9e83f08a-704f-4533-c464-87d8cea506d7"
      },
      "execution_count": null,
      "outputs": [
        {
          "output_type": "stream",
          "name": "stdout",
          "text": [
            "15\n"
          ]
        }
      ]
    },
    {
      "cell_type": "code",
      "source": [
        "#qsn8"
      ],
      "metadata": {
        "id": "4ueM4PdpvvfO"
      },
      "execution_count": null,
      "outputs": []
    },
    {
      "cell_type": "code",
      "source": [
        "for i in range(1, 16):\n",
        "    if i % 2 == 0:\n",
        "        print(f\"{i}-even\")\n",
        "    else:\n",
        "        print(f\"{i}-odd\")"
      ],
      "metadata": {
        "colab": {
          "base_uri": "https://localhost:8080/"
        },
        "id": "VsQ30G4XvvxU",
        "outputId": "e07b70b3-2815-4efb-ffbb-cf4a3f25fa68"
      },
      "execution_count": null,
      "outputs": [
        {
          "output_type": "stream",
          "name": "stdout",
          "text": [
            "1-odd\n",
            "2-even\n",
            "3-odd\n",
            "4-even\n",
            "5-odd\n",
            "6-even\n",
            "7-odd\n",
            "8-even\n",
            "9-odd\n",
            "10-even\n",
            "11-odd\n",
            "12-even\n",
            "13-odd\n",
            "14-even\n",
            "15-odd\n"
          ]
        }
      ]
    },
    {
      "cell_type": "code",
      "source": [
        "#qsn9"
      ],
      "metadata": {
        "id": "7ng6olf1y6Sb"
      },
      "execution_count": null,
      "outputs": []
    },
    {
      "cell_type": "code",
      "source": [
        "def fahrenheit_to_celsius(f):\n",
        "    return (f - 32) * 5 / 9\n",
        "\n",
        "def celsius_to_fahrenheit(c):\n",
        "    return (c * 9 / 5) + 32\n",
        "\n",
        "f = 41\n",
        "c = fahrenheit_to_celsius(f)\n",
        "print(f\"Temperature in Celsius = {c}\")\n",
        "\n",
        "c = 5\n",
        "f = celsius_to_fahrenheit(c)\n",
        "print(f\"Temperature in Fahrenheit = {f}\")"
      ],
      "metadata": {
        "colab": {
          "base_uri": "https://localhost:8080/"
        },
        "id": "jsDFwqhizAW9",
        "outputId": "42169c42-5a90-4a46-ab31-7018f28e53ed"
      },
      "execution_count": null,
      "outputs": [
        {
          "output_type": "stream",
          "name": "stdout",
          "text": [
            "Temperature in Celsius = 5.0\n",
            "Temperature in Fahrenheit = 41.0\n"
          ]
        }
      ]
    },
    {
      "cell_type": "code",
      "source": [
        "#qsn10"
      ],
      "metadata": {
        "id": "vXlFE7H9z6sd"
      },
      "execution_count": null,
      "outputs": []
    },
    {
      "cell_type": "code",
      "source": [
        "def factorial(n):\n",
        "    result = 1\n",
        "    for i in range(1, n + 1):\n",
        "        result *= i\n",
        "    return result"
      ],
      "metadata": {
        "id": "kMo4JSby3nW7"
      },
      "execution_count": null,
      "outputs": []
    },
    {
      "cell_type": "code",
      "source": [
        "print(factorial(3))"
      ],
      "metadata": {
        "colab": {
          "base_uri": "https://localhost:8080/"
        },
        "id": "uKPsTlvs3-c_",
        "outputId": "6c8a9027-a934-4a7d-cfef-a9393265b318"
      },
      "execution_count": null,
      "outputs": [
        {
          "output_type": "stream",
          "name": "stdout",
          "text": [
            "6\n"
          ]
        }
      ]
    }
  ]
}