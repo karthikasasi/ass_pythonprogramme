{
  "cells": [
    {
      "cell_type": "code",
      "execution_count": 1,
      "metadata": {
        "id": "07-WG-UMDnNc"
      },
      "outputs": [],
      "source": [
        "import math"
      ]
    },
    {
      "cell_type": "markdown",
      "metadata": {
        "id": "wRTP66vx74VM"
      },
      "source": [
        "#qsn1"
      ]
    },
    {
      "cell_type": "code",
      "execution_count": 2,
      "metadata": {
        "colab": {
          "base_uri": "https://localhost:8080/"
        },
        "id": "Mnd3ybxzFfPr",
        "outputId": "ca140b91-2313-480b-a698-d97318be320c"
      },
      "outputs": [
        {
          "output_type": "stream",
          "name": "stdout",
          "text": [
            "enter the radius:3\n",
            "Area of circle is 28.27\n"
          ]
        }
      ],
      "source": [
        "radius=float(input(\"enter the radius:\"))\n",
        "area=math.pi*radius**2\n",
        "print(f\"Area of circle is {area:.2f}\")"
      ]
    },
    {
      "cell_type": "markdown",
      "metadata": {
        "id": "sjLgshCq76sU"
      },
      "source": [
        "qsn2"
      ]
    },
    {
      "cell_type": "code",
      "execution_count": 3,
      "metadata": {
        "id": "x8MOwhIUD4aT",
        "colab": {
          "base_uri": "https://localhost:8080/"
        },
        "outputId": "6acd98ab-1a8a-4ef8-e7d2-5770f43641e9"
      },
      "outputs": [
        {
          "output_type": "stream",
          "name": "stdout",
          "text": [
            "enter the students name:anisha\n",
            "enter the students roll number:21\n",
            "enter the student mark:78\n",
            "student details:\n",
            "name:anisha\n",
            "roll number:21\n",
            "mark:78\n"
          ]
        }
      ],
      "source": [
        "\n",
        "name= input(\"enter the students name:\")\n",
        "roll_number=input(\"enter the students roll number:\")\n",
        "mark=input(\"enter the student mark:\")\n",
        "print(\"student details:\")\n",
        "print(f\"name:{name}\")\n",
        "print(f\"roll number:{roll_number}\")\n",
        "print(f\"mark:{mark}\")"
      ]
    },
    {
      "cell_type": "code",
      "execution_count": 3,
      "metadata": {
        "id": "eTXP_-qCQfDW"
      },
      "outputs": [],
      "source": []
    },
    {
      "cell_type": "markdown",
      "metadata": {
        "id": "A5bcAp5_7_Ka"
      },
      "source": [
        "qsn3"
      ]
    },
    {
      "cell_type": "code",
      "execution_count": 4,
      "metadata": {
        "id": "Ek8pswFm7yM4",
        "colab": {
          "base_uri": "https://localhost:8080/"
        },
        "outputId": "d11d2542-d9d0-442c-b75b-3a7ee7873a6e"
      },
      "outputs": [
        {
          "output_type": "stream",
          "name": "stdout",
          "text": [
            "47 is the largest number.\n"
          ]
        }
      ],
      "source": [
        "def find_largest(numbers):\n",
        "    largest = max(numbers)\n",
        "    return largest\n",
        "\n",
        "numbers = [12, 3, 47, 10]\n",
        "largest_number = find_largest(numbers)\n",
        "print(f\"{largest_number} is the largest number.\")"
      ]
    },
    {
      "cell_type": "markdown",
      "metadata": {
        "id": "eE6gDmOqQ2yt"
      },
      "source": [
        "Qsn4"
      ]
    },
    {
      "cell_type": "code",
      "execution_count": 5,
      "metadata": {
        "id": "ANTSTKpVQgxd",
        "colab": {
          "base_uri": "https://localhost:8080/"
        },
        "outputId": "8ed1e1b9-c11a-479c-f042-ffa30fa1d220"
      },
      "outputs": [
        {
          "output_type": "stream",
          "name": "stdout",
          "text": [
            "Current Number 1 Previous Number 0 Sum: 1\n",
            "Current Number 2 Previous Number 1 Sum: 3\n",
            "Current Number 3 Previous Number 2 Sum: 5\n",
            "Current Number 4 Previous Number 3 Sum: 7\n",
            "Current Number 5 Previous Number 4 Sum: 9\n",
            "Current Number 6 Previous Number 5 Sum: 11\n",
            "Current Number 7 Previous Number 6 Sum: 13\n",
            "Current Number 8 Previous Number 7 Sum: 15\n",
            "Current Number 9 Previous Number 8 Sum: 17\n",
            "Current Number 10 Previous Number 9 Sum: 19\n"
          ]
        }
      ],
      "source": [
        "previous_num = 0\n",
        "for current_num in range(1, 11):\n",
        "    print(f\"Current Number {current_num} Previous Number {previous_num} Sum: {current_num + previous_num}\")\n",
        "    previous_num = current_num"
      ]
    },
    {
      "cell_type": "markdown",
      "metadata": {
        "id": "CuKmgaNbQ7Oy"
      },
      "source": [
        "Qsn5"
      ]
    },
    {
      "cell_type": "code",
      "execution_count": 6,
      "metadata": {
        "id": "qcit1lBkQmhL",
        "colab": {
          "base_uri": "https://localhost:8080/"
        },
        "outputId": "2f0d69a8-dd23-48c8-8cb8-4f465d4ec2e7"
      },
      "outputs": [
        {
          "output_type": "stream",
          "name": "stdout",
          "text": [
            "10\n",
            "20\n",
            "55\n"
          ]
        }
      ],
      "source": [
        "numbers = [10, 20, 33, 46, 55]\n",
        "for num in numbers:\n",
        "    if num % 5 == 0:\n",
        "        print(num)"
      ]
    },
    {
      "cell_type": "markdown",
      "metadata": {
        "id": "2MXRRhGoScQW"
      },
      "source": [
        "Qsn6"
      ]
    },
    {
      "cell_type": "code",
      "execution_count": 7,
      "metadata": {
        "id": "NA8SeMQSRch1",
        "colab": {
          "base_uri": "https://localhost:8080/"
        },
        "outputId": "7105202d-017f-4406-a7ee-faa253dcebcf"
      },
      "outputs": [
        {
          "output_type": "stream",
          "name": "stdout",
          "text": [
            "Enter the number: 3\n",
            "3 is a prime number.\n"
          ]
        }
      ],
      "source": [
        "def is_prime(n):\n",
        "    if n <= 1:\n",
        "        return False\n",
        "    for i in range(2, int(n ** 0.5) + 1):\n",
        "        if n % i == 0:\n",
        "            return False\n",
        "    return True\n",
        "\n",
        "num = int(input(\"Enter the number: \"))\n",
        "if is_prime(num):\n",
        "    print(f\"{num} is a prime number.\")\n",
        "else:\n",
        "    print(f\"{num} is not a prime number.\")"
      ]
    },
    {
      "cell_type": "markdown",
      "metadata": {
        "id": "Lo2SPpUPSfKm"
      },
      "source": [
        "Qsn7"
      ]
    },
    {
      "cell_type": "code",
      "execution_count": 8,
      "metadata": {
        "id": "uMIqm_tLSQCW",
        "colab": {
          "base_uri": "https://localhost:8080/"
        },
        "outputId": "39b87527-265a-41d9-dc3d-cba0029ae5f2"
      },
      "outputs": [
        {
          "output_type": "stream",
          "name": "stdout",
          "text": [
            "[70, 30, 40, 10]\n"
          ]
        }
      ],
      "source": [
        "def reverse_list(input_list):\n",
        "    reversed_list = []\n",
        "    for i in range(len(input_list) - 1, -1, -1):\n",
        "        reversed_list.append(input_list[i])\n",
        "    return reversed_list\n",
        "\n",
        "input_list = [10, 40, 30, 70]\n",
        "reversed_list = reverse_list(input_list)\n",
        "print(reversed_list)"
      ]
    },
    {
      "cell_type": "markdown",
      "metadata": {
        "id": "rvnuLQXjUdYj"
      },
      "source": [
        "Qsn8"
      ]
    },
    {
      "cell_type": "code",
      "execution_count": 9,
      "metadata": {
        "colab": {
          "base_uri": "https://localhost:8080/"
        },
        "id": "dAzpmuoUUft6",
        "outputId": "49d8289b-1bff-47cf-b2c2-98a149e4d5c5"
      },
      "outputs": [
        {
          "output_type": "stream",
          "name": "stdout",
          "text": [
            "*\n",
            "**\n",
            "***\n",
            "****\n"
          ]
        }
      ],
      "source": [
        "for i in range(1, 5):\n",
        "    print(\"*\" * i)"
      ]
    },
    {
      "cell_type": "markdown",
      "metadata": {
        "id": "SdBpyY7SYNBh"
      },
      "source": [
        "Qsn 9"
      ]
    },
    {
      "cell_type": "code",
      "execution_count": 11,
      "metadata": {
        "id": "Ao2gnyVYYQkj",
        "colab": {
          "base_uri": "https://localhost:8080/"
        },
        "outputId": "252c2113-0acd-492e-cb5b-f0a2d0feb3f3"
      },
      "outputs": [
        {
          "output_type": "stream",
          "name": "stdout",
          "text": [
            "Enter first number: 34\n",
            "Enter second number: 56\n",
            "Enter third number: 75\n",
            "Maximum number is: 75\n"
          ]
        }
      ],
      "source": [
        "def find_max(a, b, c):\n",
        "    if a >= b and a >= c:\n",
        "        return a\n",
        "    elif b >= a and b >= c:\n",
        "        return b\n",
        "    else:\n",
        "        return c\n",
        "\n",
        "a = int(input(\"Enter first number: \"))\n",
        "b = int(input(\"Enter second number: \"))\n",
        "c = int(input(\"Enter third number: \"))\n",
        "\n",
        "max_num = find_max(a, b, c)\n",
        "print(\"Maximum number is:\", max_num)"
      ]
    },
    {
      "cell_type": "markdown",
      "source": [
        "qsn10\n"
      ],
      "metadata": {
        "id": "L89Oo8f3ctcH"
      }
    },
    {
      "cell_type": "code",
      "source": [
        "for i in range(1,6):\n",
        "  for j in range(i):\n",
        "    print(\"*\",end=\" \")\n",
        "  print()\n",
        "for i in range(4,0,-1):\n",
        "  for j in range(i):\n",
        "    print(\"*\",end=\" \")\n",
        "  print()"
      ],
      "metadata": {
        "id": "y9MS5n6ccwQA",
        "colab": {
          "base_uri": "https://localhost:8080/"
        },
        "outputId": "06cadead-d28d-4f11-8698-9d009a36f07f"
      },
      "execution_count": 12,
      "outputs": [
        {
          "output_type": "stream",
          "name": "stdout",
          "text": [
            "* \n",
            "* * \n",
            "* * * \n",
            "* * * * \n",
            "* * * * * \n",
            "* * * * \n",
            "* * * \n",
            "* * \n",
            "* \n"
          ]
        }
      ]
    },
    {
      "cell_type": "code",
      "source": [],
      "metadata": {
        "id": "2CG15qJEdMZr"
      },
      "execution_count": null,
      "outputs": []
    }
  ],
  "metadata": {
    "colab": {
      "provenance": []
    },
    "kernelspec": {
      "display_name": "Python 3",
      "name": "python3"
    },
    "language_info": {
      "name": "python"
    }
  },
  "nbformat": 4,
  "nbformat_minor": 0
}